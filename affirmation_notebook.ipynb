{
 "cells": [
  {
   "cell_type": "code",
   "execution_count": 1,
   "metadata": {},
   "outputs": [],
   "source": [
    "import sys\n",
    "import zulip\n",
    "import random\n",
    "\n",
    "# Pass the path to your zuliprc file here.\n",
    "\n",
    "#testing\n",
    "#client = zulip.Client(config_file=\"/Users/taylordupuy/Dropbox/computing/dupuy-zulip-bots/zuliprc\")\n",
    "\n",
    "client = zulip.Client(config_file=\"/Users/taylordupuy/Dropbox/computing/dupuy-zulip-bots/affirmation-live/zuliprc\")\n",
    "#admin_client = zulip.Client(config_file=\"/Users/taylordupuy/Dropbox/computing/dupuy-zulip-bots/taylor-bot/zuliprc\")"
   ]
  },
  {
   "cell_type": "code",
   "execution_count": 5,
   "metadata": {},
   "outputs": [],
   "source": [
    "m = 4\n",
    "user_list = [313513,312329,326226,320828,312334]\n",
    "\n",
    "def random_line(fname):\n",
    "    lines = open(fname).read().splitlines()\n",
    "    return random.choice(lines)\n",
    "\n",
    "def motivate(msg):\n",
    "    zulip_id = msg['sender_id']\n",
    "    stream_id = msg['stream_id']\n",
    "    topic = msg['subject']\n",
    "    print(msg)\n",
    "    x=random.randint(0,m)\n",
    "    if x==0:\n",
    "        if user_list.count(zulip_id)>0:\n",
    "            affirmation = random_line('affirmations.txt')\n",
    "            bot_request = {\n",
    "                 \"type\": \"stream\",\n",
    "                 \"to\": stream_id,\n",
    "                 \"topic\": topic,\n",
    "                 \"content\": affirmation,\n",
    "             }\n",
    "            result = client.send_message(bot_request)\n",
    "            print(result)\n",
    "    else:\n",
    "        result = \"Did nothing\"\n",
    "    #print(result)\n",
    "    #print('\\n')"
   ]
  },
  {
   "cell_type": "code",
   "execution_count": null,
   "metadata": {},
   "outputs": [
    {
     "name": "stdout",
     "output_type": "stream",
     "text": [
      "{'id': 207098361, 'sender_id': 312334, 'content': 'now it should be one in every 4', 'recipient_id': 496175, 'timestamp': 1597626340, 'client': 'ZulipElectron', 'subject': 'git repos', 'topic_links': [], 'is_me_message': False, 'reactions': [], 'submessages': [], 'sender_full_name': '[shepherd] Taylor Dupuy (Vermont)', 'sender_email': 'user312334@zulipchat.com', 'sender_realm_str': 'agittoc', 'display_recipient': 'Shepherds', 'type': 'stream', 'stream_id': 244005, 'avatar_url': 'https://zulip-avatars.s3.amazonaws.com/25391/0563623d85a9bddfb58f03c98e008943de2698f5?x=x&version=4', 'content_type': 'text/x-markdown'}\n",
      "{'id': 207098362, 'sender_id': 312334, 'content': 'this', 'recipient_id': 496175, 'timestamp': 1597626343, 'client': 'ZulipElectron', 'subject': 'git repos', 'topic_links': [], 'is_me_message': False, 'reactions': [], 'submessages': [], 'sender_full_name': '[shepherd] Taylor Dupuy (Vermont)', 'sender_email': 'user312334@zulipchat.com', 'sender_realm_str': 'agittoc', 'display_recipient': 'Shepherds', 'type': 'stream', 'stream_id': 244005, 'avatar_url': 'https://zulip-avatars.s3.amazonaws.com/25391/0563623d85a9bddfb58f03c98e008943de2698f5?x=x&version=4', 'content_type': 'text/x-markdown'}\n",
      "{'id': 207098363, 'sender_id': 312334, 'content': 'is', 'recipient_id': 496175, 'timestamp': 1597626343, 'client': 'ZulipElectron', 'subject': 'git repos', 'topic_links': [], 'is_me_message': False, 'reactions': [], 'submessages': [], 'sender_full_name': '[shepherd] Taylor Dupuy (Vermont)', 'sender_email': 'user312334@zulipchat.com', 'sender_realm_str': 'agittoc', 'display_recipient': 'Shepherds', 'type': 'stream', 'stream_id': 244005, 'avatar_url': 'https://zulip-avatars.s3.amazonaws.com/25391/0563623d85a9bddfb58f03c98e008943de2698f5?x=x&version=4', 'content_type': 'text/x-markdown'}\n",
      "{'id': 207098364, 'sender_id': 312334, 'content': 'a', 'recipient_id': 496175, 'timestamp': 1597626347, 'client': 'ZulipElectron', 'subject': 'git repos', 'topic_links': [], 'is_me_message': False, 'reactions': [], 'submessages': [], 'sender_full_name': '[shepherd] Taylor Dupuy (Vermont)', 'sender_email': 'user312334@zulipchat.com', 'sender_realm_str': 'agittoc', 'display_recipient': 'Shepherds', 'type': 'stream', 'stream_id': 244005, 'avatar_url': 'https://zulip-avatars.s3.amazonaws.com/25391/0563623d85a9bddfb58f03c98e008943de2698f5?x=x&version=4', 'content_type': 'text/x-markdown'}\n",
      "{'result': 'success', 'msg': '', 'id': 207098365}\n",
      "{'id': 207098365, 'sender_id': 330447, 'content': 'You deserve a break.', 'recipient_id': 496175, 'timestamp': 1597626347, 'client': 'ZulipPython', 'subject': 'git repos', 'topic_links': [], 'is_me_message': False, 'reactions': [], 'submessages': [], 'sender_full_name': 'affirmationbot', 'sender_email': 'affirmationbot-bot@zulipchat.com', 'sender_realm_str': 'agittoc', 'display_recipient': 'Shepherds', 'type': 'stream', 'stream_id': 244005, 'avatar_url': 'https://zulip-avatars.s3.amazonaws.com/25391/3fcc0dc804b28a5d2d620193be9d6b7da5e21ed2?x=x&version=4', 'content_type': 'text/x-markdown'}\n",
      "{'id': 207098366, 'sender_id': 312334, 'content': 'great!', 'recipient_id': 496175, 'timestamp': 1597626351, 'client': 'ZulipElectron', 'subject': 'git repos', 'topic_links': [], 'is_me_message': False, 'reactions': [], 'submessages': [], 'sender_full_name': '[shepherd] Taylor Dupuy (Vermont)', 'sender_email': 'user312334@zulipchat.com', 'sender_realm_str': 'agittoc', 'display_recipient': 'Shepherds', 'type': 'stream', 'stream_id': 244005, 'avatar_url': 'https://zulip-avatars.s3.amazonaws.com/25391/0563623d85a9bddfb58f03c98e008943de2698f5?x=x&version=4', 'content_type': 'text/x-markdown'}\n",
      "{'id': 207098367, 'sender_id': 312334, 'content': 'ok', 'recipient_id': 496175, 'timestamp': 1597626352, 'client': 'ZulipElectron', 'subject': 'git repos', 'topic_links': [], 'is_me_message': False, 'reactions': [], 'submessages': [], 'sender_full_name': '[shepherd] Taylor Dupuy (Vermont)', 'sender_email': 'user312334@zulipchat.com', 'sender_realm_str': 'agittoc', 'display_recipient': 'Shepherds', 'type': 'stream', 'stream_id': 244005, 'avatar_url': 'https://zulip-avatars.s3.amazonaws.com/25391/0563623d85a9bddfb58f03c98e008943de2698f5?x=x&version=4', 'content_type': 'text/x-markdown'}\n",
      "{'id': 207098370, 'sender_id': 312334, 'content': \"it's a random variable though\", 'recipient_id': 496175, 'timestamp': 1597626359, 'client': 'ZulipElectron', 'subject': 'git repos', 'topic_links': [], 'is_me_message': False, 'reactions': [], 'submessages': [], 'sender_full_name': '[shepherd] Taylor Dupuy (Vermont)', 'sender_email': 'user312334@zulipchat.com', 'sender_realm_str': 'agittoc', 'display_recipient': 'Shepherds', 'type': 'stream', 'stream_id': 244005, 'avatar_url': 'https://zulip-avatars.s3.amazonaws.com/25391/0563623d85a9bddfb58f03c98e008943de2698f5?x=x&version=4', 'content_type': 'text/x-markdown'}\n"
     ]
    }
   ],
   "source": [
    "#client.call_on_each_message(lambda msg: motivate(msg))\n",
    "client.call_on_each_message(motivate)"
   ]
  },
  {
   "cell_type": "code",
   "execution_count": null,
   "metadata": {},
   "outputs": [],
   "source": []
  }
 ],
 "metadata": {
  "kernelspec": {
   "display_name": "Python 3",
   "language": "python",
   "name": "python3"
  },
  "language_info": {
   "codemirror_mode": {
    "name": "ipython",
    "version": 3
   },
   "file_extension": ".py",
   "mimetype": "text/x-python",
   "name": "python",
   "nbconvert_exporter": "python",
   "pygments_lexer": "ipython3",
   "version": "3.7.3"
  }
 },
 "nbformat": 4,
 "nbformat_minor": 4
}
