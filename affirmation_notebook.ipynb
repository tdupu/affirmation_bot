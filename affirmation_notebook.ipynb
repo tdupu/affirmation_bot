{
 "cells": [
  {
   "cell_type": "code",
   "execution_count": null,
   "metadata": {},
   "outputs": [],
   "source": [
    "import sys\n",
    "import zulip\n",
    "import random\n",
    "\n",
    "# Pass the path to your zuliprc file here.\n",
    "\n",
    "#testing\n",
    "#client = zulip.Client(config_file=\"/Users/taylordupuy/Dropbox/computing/dupuy-zulip-bots/zuliprc\")\n",
    "\n",
    "client = zulip.Client(config_file=\"/Users/taylordupuy/Dropbox/computing/dupuy-zulip-bots/affirmation-live/zuliprc\")\n",
    "#admin_client = zulip.Client(config_file=\"/Users/taylordupuy/Dropbox/computing/dupuy-zulip-bots/taylor-bot/zuliprc\")"
   ]
  },
  {
   "cell_type": "code",
   "execution_count": 10,
   "metadata": {},
   "outputs": [],
   "source": [
    "m = 5\n",
    "user_list = [313513,312329,326226,320828]\n",
    "\n",
    "def random_line(fname):\n",
    "    lines = open(fname).read().splitlines()\n",
    "    return random.choice(lines)\n",
    "\n",
    "def motivate(msg):\n",
    "    zulip_id = msg['sender_id']\n",
    "    stream_id = msg['stream_id']\n",
    "    topic = msg['subject']\n",
    "    print(msg)\n",
    "    x=0\n",
    "    if x==0:\n",
    "        if user_list.count(zulip_id)>0:\n",
    "            affirmation = random_line('../affirmation/affirmations.txt')\n",
    "            bot_request = {\n",
    "                 \"type\": \"stream\",\n",
    "                 \"to\": stream_id,\n",
    "                 \"topic\": topic,\n",
    "                 \"content\": affirmation,\n",
    "             }\n",
    "            result = client.send_message(bot_request)\n",
    "            print(result)\n",
    "    else:\n",
    "        result = \"Did nothing\"\n",
    "    #print(result)\n",
    "    #print('\\n')"
   ]
  },
  {
   "cell_type": "code",
   "execution_count": null,
   "metadata": {},
   "outputs": [
    {
     "name": "stdout",
     "output_type": "stream",
     "text": [
      "{'id': 207097358, 'sender_id': 320828, 'content': 'test', 'recipient_id': 509987, 'timestamp': 1597624479, 'client': 'ZulipElectron', 'subject': 'Castle', 'topic_links': [], 'is_me_message': False, 'reactions': [], 'submessages': [], 'sender_full_name': '[shepherd] Taylor Dupuy (Vermont)', 'sender_email': 'taylor.dupuy@gmail.com', 'sender_realm_str': 'agittoc-sandbox', 'display_recipient': 'general', 'type': 'stream', 'stream_id': 247411, 'avatar_url': 'https://zulip-avatars.s3.amazonaws.com/26429/1bbe96ac615f46b627e76799250444af10736065?x=x&version=2', 'content_type': 'text/x-markdown'}\n",
      "{'result': 'success', 'msg': '', 'id': 207097359}\n",
      "{'id': 207097359, 'sender_id': 321762, 'content': 'This is terrific.', 'recipient_id': 509987, 'timestamp': 1597624479, 'client': 'ZulipPython', 'subject': 'Castle', 'topic_links': [], 'is_me_message': False, 'reactions': [], 'submessages': [], 'sender_full_name': 'roboshep', 'sender_email': 'roboshep-taylor-bot@zulipchat.com', 'sender_realm_str': 'agittoc-sandbox', 'display_recipient': 'general', 'type': 'stream', 'stream_id': 247411, 'avatar_url': 'https://zulip-avatars.s3.amazonaws.com/26429/ef6e268cad15d069d71f9cf74f8344bce1c993a9?x=x&version=1', 'content_type': 'text/x-markdown'}\n",
      "{'id': 207097362, 'sender_id': 320828, 'content': 'test', 'recipient_id': 509987, 'timestamp': 1597624488, 'client': 'ZulipElectron', 'subject': 'Castle', 'topic_links': [], 'is_me_message': False, 'reactions': [], 'submessages': [], 'sender_full_name': '[shepherd] Taylor Dupuy (Vermont)', 'sender_email': 'taylor.dupuy@gmail.com', 'sender_realm_str': 'agittoc-sandbox', 'display_recipient': 'general', 'type': 'stream', 'stream_id': 247411, 'avatar_url': 'https://zulip-avatars.s3.amazonaws.com/26429/1bbe96ac615f46b627e76799250444af10736065?x=x&version=2', 'content_type': 'text/x-markdown'}\n",
      "{'result': 'success', 'msg': '', 'id': 207097363}\n",
      "{'id': 207097363, 'sender_id': 321762, 'content': \"You're doing great! Keep going!\", 'recipient_id': 509987, 'timestamp': 1597624488, 'client': 'ZulipPython', 'subject': 'Castle', 'topic_links': [], 'is_me_message': False, 'reactions': [], 'submessages': [], 'sender_full_name': 'roboshep', 'sender_email': 'roboshep-taylor-bot@zulipchat.com', 'sender_realm_str': 'agittoc-sandbox', 'display_recipient': 'general', 'type': 'stream', 'stream_id': 247411, 'avatar_url': 'https://zulip-avatars.s3.amazonaws.com/26429/ef6e268cad15d069d71f9cf74f8344bce1c993a9?x=x&version=1', 'content_type': 'text/x-markdown'}\n",
      "{'id': 207097365, 'sender_id': 320828, 'content': 'test', 'recipient_id': 509987, 'timestamp': 1597624493, 'client': 'ZulipElectron', 'subject': 'Castle', 'topic_links': [], 'is_me_message': False, 'reactions': [], 'submessages': [], 'sender_full_name': '[shepherd] Taylor Dupuy (Vermont)', 'sender_email': 'taylor.dupuy@gmail.com', 'sender_realm_str': 'agittoc-sandbox', 'display_recipient': 'general', 'type': 'stream', 'stream_id': 247411, 'avatar_url': 'https://zulip-avatars.s3.amazonaws.com/26429/1bbe96ac615f46b627e76799250444af10736065?x=x&version=2', 'content_type': 'text/x-markdown'}\n",
      "{'result': 'success', 'msg': '', 'id': 207097366}\n",
      "{'id': 207097366, 'sender_id': 321762, 'content': 'Did you iron your shirt today?', 'recipient_id': 509987, 'timestamp': 1597624493, 'client': 'ZulipPython', 'subject': 'Castle', 'topic_links': [], 'is_me_message': False, 'reactions': [], 'submessages': [], 'sender_full_name': 'roboshep', 'sender_email': 'roboshep-taylor-bot@zulipchat.com', 'sender_realm_str': 'agittoc-sandbox', 'display_recipient': 'general', 'type': 'stream', 'stream_id': 247411, 'avatar_url': 'https://zulip-avatars.s3.amazonaws.com/26429/ef6e268cad15d069d71f9cf74f8344bce1c993a9?x=x&version=1', 'content_type': 'text/x-markdown'}\n"
     ]
    }
   ],
   "source": [
    "#client.call_on_each_message(lambda msg: motivate(msg))\n",
    "client.call_on_each_message(motivate)"
   ]
  }
 ],
 "metadata": {
  "kernelspec": {
   "display_name": "Python 3",
   "language": "python",
   "name": "python3"
  },
  "language_info": {
   "codemirror_mode": {
    "name": "ipython",
    "version": 3
   },
   "file_extension": ".py",
   "mimetype": "text/x-python",
   "name": "python",
   "nbconvert_exporter": "python",
   "pygments_lexer": "ipython3",
   "version": "3.7.3"
  }
 },
 "nbformat": 4,
 "nbformat_minor": 4
}
